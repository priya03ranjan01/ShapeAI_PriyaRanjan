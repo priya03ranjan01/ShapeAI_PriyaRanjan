{
  "nbformat": 4,
  "nbformat_minor": 0,
  "metadata": {
    "colab": {
      "name": "Priya_Ranjan.ipynb",
      "provenance": [],
      "toc_visible": true
    },
    "kernelspec": {
      "name": "python3",
      "display_name": "Python 3"
    },
    "language_info": {
      "name": "python"
    }
  },
  "cells": [
    {
      "cell_type": "code",
      "metadata": {
        "id": "mKl5b8KM0gwq"
      },
      "source": [
        "from keras.datasets import mnist\n",
        "data=mnist.load_data()\n"
      ],
      "execution_count": 21,
      "outputs": []
    },
    {
      "cell_type": "code",
      "metadata": {
        "id": "rTc22hoL6RAW"
      },
      "source": [
        "((X_train, y_train), (X_test, y_test)) = data"
      ],
      "execution_count": 22,
      "outputs": []
    },
    {
      "cell_type": "code",
      "metadata": {
        "id": "Nd2ovv9E6RGQ"
      },
      "source": [
        "X_train = X_train.reshape((X_train.shape[0], 28*28)).astype('float32')\n",
        "X_test = X_test.reshape((X_test.shape[0], 28*28)).astype('float32')"
      ],
      "execution_count": 23,
      "outputs": []
    },
    {
      "cell_type": "code",
      "metadata": {
        "id": "NhJFRwXs6RJB"
      },
      "source": [
        "X_train = X_train / 255\n",
        "X_test = X_test / 255"
      ],
      "execution_count": 24,
      "outputs": []
    },
    {
      "cell_type": "code",
      "metadata": {
        "colab": {
          "base_uri": "https://localhost:8080/"
        },
        "id": "z8df4Gzw6RLq",
        "outputId": "08ad8b36-294b-4d35-d0a2-d16291d4f732"
      },
      "source": [
        "from keras.utils import np_utils\n",
        "print(y_test.shape)\n",
        "y_train = np_utils.to_categorical(y_train)\n",
        "y_test = np_utils.to_categorical(y_test)\n",
        "num_classes = y_test.shape[1]\n",
        "print(y_test.shape)"
      ],
      "execution_count": 25,
      "outputs": [
        {
          "output_type": "stream",
          "text": [
            "(10000,)\n",
            "(10000, 10)\n"
          ],
          "name": "stdout"
        }
      ]
    },
    {
      "cell_type": "code",
      "metadata": {
        "id": "FDwWm5G06ROD"
      },
      "source": [
        "from keras.models import Sequential\n",
        "from keras.layers import Dense"
      ],
      "execution_count": 26,
      "outputs": []
    },
    {
      "cell_type": "code",
      "metadata": {
        "id": "ezowZ7vx6RSy"
      },
      "source": [
        "model = Sequential()\n",
        "model.add(Dense(32, input_dim = 28*28, activation='relu'))\n",
        "model.add(Dense(64, activation='relu'))\n",
        "model.add(Dense(10, activation='softmax'))"
      ],
      "execution_count": 27,
      "outputs": []
    },
    {
      "cell_type": "code",
      "metadata": {
        "id": "bVgUIewd6RUV"
      },
      "source": [
        "model.compile(loss='categorical_crossentropy', optimizer='adam', metrics=['accuracy'])"
      ],
      "execution_count": 28,
      "outputs": []
    },
    {
      "cell_type": "code",
      "metadata": {
        "colab": {
          "base_uri": "https://localhost:8080/"
        },
        "id": "__Uv7KHx6RYM",
        "outputId": "4c39f21e-c0f3-4863-8ac3-e6cefd3899b7"
      },
      "source": [
        "model.summary()"
      ],
      "execution_count": 29,
      "outputs": [
        {
          "output_type": "stream",
          "text": [
            "Model: \"sequential_3\"\n",
            "_________________________________________________________________\n",
            "Layer (type)                 Output Shape              Param #   \n",
            "=================================================================\n",
            "dense_4 (Dense)              (None, 32)                25120     \n",
            "_________________________________________________________________\n",
            "dense_5 (Dense)              (None, 64)                2112      \n",
            "_________________________________________________________________\n",
            "dense_6 (Dense)              (None, 10)                650       \n",
            "=================================================================\n",
            "Total params: 27,882\n",
            "Trainable params: 27,882\n",
            "Non-trainable params: 0\n",
            "_________________________________________________________________\n"
          ],
          "name": "stdout"
        }
      ]
    },
    {
      "cell_type": "code",
      "metadata": {
        "colab": {
          "base_uri": "https://localhost:8080/"
        },
        "id": "X69XWiTc6jUd",
        "outputId": "b16b3238-5c9c-4c8f-f262-3eece9b2473c"
      },
      "source": [
        "model.fit(X_train, y_train, epochs=10, batch_size=100)"
      ],
      "execution_count": 30,
      "outputs": [
        {
          "output_type": "stream",
          "text": [
            "Epoch 1/10\n",
            "600/600 [==============================] - 1s 2ms/step - loss: 0.7750 - accuracy: 0.7768\n",
            "Epoch 2/10\n",
            "600/600 [==============================] - 1s 2ms/step - loss: 0.2117 - accuracy: 0.9374\n",
            "Epoch 3/10\n",
            "600/600 [==============================] - 1s 1ms/step - loss: 0.1668 - accuracy: 0.9517\n",
            "Epoch 4/10\n",
            "600/600 [==============================] - 1s 2ms/step - loss: 0.1369 - accuracy: 0.9597\n",
            "Epoch 5/10\n",
            "600/600 [==============================] - 1s 1ms/step - loss: 0.1171 - accuracy: 0.9647\n",
            "Epoch 6/10\n",
            "600/600 [==============================] - 1s 1ms/step - loss: 0.1030 - accuracy: 0.9687\n",
            "Epoch 7/10\n",
            "600/600 [==============================] - 1s 1ms/step - loss: 0.0881 - accuracy: 0.9728\n",
            "Epoch 8/10\n",
            "600/600 [==============================] - 1s 1ms/step - loss: 0.0809 - accuracy: 0.9755\n",
            "Epoch 9/10\n",
            "600/600 [==============================] - 1s 1ms/step - loss: 0.0764 - accuracy: 0.9762\n",
            "Epoch 10/10\n",
            "600/600 [==============================] - 1s 1ms/step - loss: 0.0681 - accuracy: 0.9792\n"
          ],
          "name": "stdout"
        },
        {
          "output_type": "execute_result",
          "data": {
            "text/plain": [
              "<tensorflow.python.keras.callbacks.History at 0x7faed4535610>"
            ]
          },
          "metadata": {
            "tags": []
          },
          "execution_count": 30
        }
      ]
    },
    {
      "cell_type": "code",
      "metadata": {
        "colab": {
          "base_uri": "https://localhost:8080/"
        },
        "id": "hWJCF4hF6jBw",
        "outputId": "23d037f3-a265-4a1b-c8b3-8342a0b22df2"
      },
      "source": [
        "scores = model.evaluate(X_test, y_test)\n",
        "print(scores)"
      ],
      "execution_count": 31,
      "outputs": [
        {
          "output_type": "stream",
          "text": [
            "313/313 [==============================] - 0s 681us/step - loss: 0.1217 - accuracy: 0.9644\n",
            "[0.1217065081000328, 0.9643999934196472]\n"
          ],
          "name": "stdout"
        }
      ]
    }
  ]
}